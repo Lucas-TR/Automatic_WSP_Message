{
 "cells": [
  {
   "cell_type": "code",
   "execution_count": null,
   "id": "e50b1622",
   "metadata": {},
   "outputs": [],
   "source": [
    "!pip install pyautogui"
   ]
  },
  {
   "cell_type": "code",
   "execution_count": 1,
   "id": "b1682577",
   "metadata": {},
   "outputs": [
    {
     "data": {
      "text/html": [
       "<div>\n",
       "<style scoped>\n",
       "    .dataframe tbody tr th:only-of-type {\n",
       "        vertical-align: middle;\n",
       "    }\n",
       "\n",
       "    .dataframe tbody tr th {\n",
       "        vertical-align: top;\n",
       "    }\n",
       "\n",
       "    .dataframe thead th {\n",
       "        text-align: right;\n",
       "    }\n",
       "</style>\n",
       "<table border=\"1\" class=\"dataframe\">\n",
       "  <thead>\n",
       "    <tr style=\"text-align: right;\">\n",
       "      <th></th>\n",
       "      <th>Message</th>\n",
       "      <th>Phone</th>\n",
       "    </tr>\n",
       "  </thead>\n",
       "  <tbody>\n",
       "    <tr>\n",
       "      <th>0</th>\n",
       "      <td>message_1</td>\n",
       "      <td>#########</td>\n",
       "    </tr>\n",
       "    <tr>\n",
       "      <th>1</th>\n",
       "      <td>message_2</td>\n",
       "      <td>#########</td>\n",
       "    </tr>\n",
       "    <tr>\n",
       "      <th>2</th>\n",
       "      <td>message_3</td>\n",
       "      <td>#########</td>\n",
       "    </tr>\n",
       "    <tr>\n",
       "      <th>3</th>\n",
       "      <td>message_4</td>\n",
       "      <td>#########</td>\n",
       "    </tr>\n",
       "    <tr>\n",
       "      <th>4</th>\n",
       "      <td>message_5</td>\n",
       "      <td>#########</td>\n",
       "    </tr>\n",
       "  </tbody>\n",
       "</table>\n",
       "</div>"
      ],
      "text/plain": [
       "     Message      Phone\n",
       "0  message_1  #########\n",
       "1  message_2  #########\n",
       "2  message_3  #########\n",
       "3  message_4  #########\n",
       "4  message_5  #########"
      ]
     },
     "execution_count": 1,
     "metadata": {},
     "output_type": "execute_result"
    }
   ],
   "source": [
    "#import the database\n",
    "import pandas as pd\n",
    "filename = 'proof_data.csv'\n",
    "data = pd.read_csv(filename,sep =';')\n",
    "data.head()"
   ]
  },
  {
   "cell_type": "code",
   "execution_count": 26,
   "id": "2327480d",
   "metadata": {},
   "outputs": [],
   "source": [
    "import webbrowser, pyautogui\n",
    "from time import sleep\n",
    "\n",
    "for i in range(len(data['Message'])):\n",
    "    n = n + 1 \n",
    "    message = \"Hi ...\"\n",
    "    ID_Country = 51 #(+51) is for Perú \n",
    "    webbrowser.open(\"http://web.whatsapp.com/send?phone=+{}{}&text={}\".format(ID_Country,data['Phone'][n], message))\n",
    "    sleep(20) #waiting time\n",
    "    pyautogui.press(\"enter\")"
   ]
  }
 ],
 "metadata": {
  "kernelspec": {
   "display_name": "Python 3 (ipykernel)",
   "language": "python",
   "name": "python3"
  },
  "language_info": {
   "codemirror_mode": {
    "name": "ipython",
    "version": 3
   },
   "file_extension": ".py",
   "mimetype": "text/x-python",
   "name": "python",
   "nbconvert_exporter": "python",
   "pygments_lexer": "ipython3",
   "version": "3.9.7"
  }
 },
 "nbformat": 4,
 "nbformat_minor": 5
}
